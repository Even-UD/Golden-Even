{
 "cells": [
  {
   "cell_type": "markdown",
   "metadata": {},
   "source": [
    "# Crawler for Even dictionary"
   ]
  },
  {
   "cell_type": "code",
   "execution_count": 1,
   "metadata": {},
   "outputs": [],
   "source": [
    "import requests\n",
    "import re\n",
    "from bs4 import BeautifulSoup\n",
    "import json\n",
    "from html2text import html2text\n",
    "from tqdm.auto import tqdm\n",
    "from string import punctuation as punc"
   ]
  },
  {
   "cell_type": "markdown",
   "metadata": {},
   "source": [
    "Online-version is here"
   ]
  },
  {
   "cell_type": "code",
   "execution_count": 2,
   "metadata": {},
   "outputs": [],
   "source": [
    "base_link = 'http://jazykirossii.ru/eve.html?page='"
   ]
  },
  {
   "cell_type": "markdown",
   "metadata": {},
   "source": [
    "Collect all the entries"
   ]
  },
  {
   "cell_type": "code",
   "execution_count": null,
   "metadata": {},
   "outputs": [
    {
     "data": {
      "application/vnd.jupyter.widget-view+json": {
       "model_id": "2bb5be257f384a12a094c477f8bf0c28",
       "version_major": 2,
       "version_minor": 0
      },
      "text/plain": [
       "  0%|          | 0/323 [00:00<?, ?it/s]"
      ]
     },
     "metadata": {},
     "output_type": "display_data"
    }
   ],
   "source": [
    "new_words = []\n",
    "pages = range(31, 354)\n",
    "for i in tqdm(pages):\n",
    "    page = str(i)\n",
    "    link = base_link + page\n",
    "    html = requests.get(link).text\n",
    "    # word entries have no separate tags\n",
    "    # and are located between delimiters\n",
    "    words = re.findall(\n",
    "        r'(?<=<div class=\"delim\"></div>)(.*?)(?=<div class=\"delim\"></div>)',\n",
    "        html)\n",
    "    # for the last word the second delimiter does not appear\n",
    "    last_word = re.findall(\n",
    "        r'.*<div class=\"delim\"></div>(.*?)\\n<style>',\n",
    "        html)\n",
    "    words += last_word\n",
    "    for word in words:\n",
    "        # protect and replace\n",
    "        word = word.replace('[', '\\[').replace(']', '\\]')\n",
    "        word = re.sub('<.?br.*?>', '', word)\n",
    "        word = re.sub('<(.?)b.*?>', '[\\g<1>b]', word)\n",
    "        # add some colours!\n",
    "        if '<i style=\"color:green\">' in word:\n",
    "            indices = [i.end() for i in re.finditer('<i style=\"color:green\">', word)]\n",
    "            for index in indices:\n",
    "                word = word[:index] + word[index:].replace('</i>', '[/c][/i]')\n",
    "            word = word.replace('<i style=\"color:green\">', '[i][c green]')\n",
    "        word = re.sub('<(.?)i.*?>', '[\\g<1>i] ', word)\n",
    "        # render diacritics and special symbols\n",
    "        word = html2text(word)\n",
    "        new_words.append(re.sub('\\s+', ' ', word))"
   ]
  },
  {
   "cell_type": "code",
   "execution_count": null,
   "metadata": {},
   "outputs": [],
   "source": [
    "for_dict = [\n",
    "    '#NAME \"Эвенско-русский словарь (Evn-Rus)\"',\n",
    "    '#INDEX_LANGUAGE\\t\"Even\"',\n",
    "    '#CONTENTS_LANGUAGE\\t\"Russian\"',\n",
    "]\n",
    "dictionary = {}\n",
    "for word in new_words:\n",
    "    new_word = re.search('\\[b\\](.*?)\\[/b\\]', word)\n",
    "    for_dict.append(f'{new_word.groups(1)[0]}\\n\\t{word}')\n",
    "    dictionary[new_word.groups(1)[0].strip(punc)] = re.sub('\\[.+?\\]', '', word[new_word.end():]).strip()"
   ]
  },
  {
   "cell_type": "code",
   "execution_count": null,
   "metadata": {},
   "outputs": [],
   "source": [
    "with open('Even.dsl', 'w', encoding='utf-16') as f:\n",
    "    f.write('\\n'.join(for_dict))"
   ]
  },
  {
   "cell_type": "code",
   "execution_count": null,
   "metadata": {},
   "outputs": [],
   "source": [
    "with open('Even.json', 'w', encoding='utf-8') as f:\n",
    "    json.dump(dictionary, f, ensure_ascii=False, indent=4)"
   ]
  }
 ],
 "metadata": {
  "kernelspec": {
   "display_name": "Python 3",
   "language": "python",
   "name": "python3"
  },
  "language_info": {
   "codemirror_mode": {
    "name": "ipython",
    "version": 3
   },
   "file_extension": ".py",
   "mimetype": "text/x-python",
   "name": "python",
   "nbconvert_exporter": "python",
   "pygments_lexer": "ipython3",
   "version": "3.8.5"
  }
 },
 "nbformat": 4,
 "nbformat_minor": 5
}
